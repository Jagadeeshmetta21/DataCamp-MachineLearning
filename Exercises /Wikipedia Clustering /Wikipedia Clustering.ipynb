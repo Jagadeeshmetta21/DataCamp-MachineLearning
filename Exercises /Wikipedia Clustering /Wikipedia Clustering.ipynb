{
 "cells": [
  {
   "cell_type": "code",
   "execution_count": 1,
   "metadata": {},
   "outputs": [],
   "source": [
    "import pandas as pd\n",
    "import numpy as np\n",
    "import os"
   ]
  },
  {
   "cell_type": "code",
   "execution_count": 2,
   "metadata": {},
   "outputs": [
    {
     "data": {
      "text/plain": [
       "['.DS_Store',\n",
       " 'Wikipedia Clustering.ipynb',\n",
       " '.ipynb_checkpoints',\n",
       " 'Wikipedia articles']"
      ]
     },
     "execution_count": 2,
     "metadata": {},
     "output_type": "execute_result"
    }
   ],
   "source": [
    "os.listdir()"
   ]
  },
  {
   "cell_type": "code",
   "execution_count": 3,
   "metadata": {},
   "outputs": [
    {
     "data": {
      "text/plain": [
       "['preprocessing.md', 'wikipedia-vectors.csv', 'wikipedia-vocabulary-utf8.txt']"
      ]
     },
     "execution_count": 3,
     "metadata": {},
     "output_type": "execute_result"
    }
   ],
   "source": [
    "os.listdir('Wikipedia articles')"
   ]
  },
  {
   "cell_type": "code",
   "execution_count": 20,
   "metadata": {},
   "outputs": [],
   "source": [
    "articles = pd.read_csv('Wikipedia articles/wikipedia-vectors.csv')\n",
    "words = pd.read_csv('Wikipedia articles/wikipedia-vocabulary-utf8.txt', sep=\" \", header=None)"
   ]
  },
  {
   "cell_type": "code",
   "execution_count": 21,
   "metadata": {
    "scrolled": true
   },
   "outputs": [
    {
     "data": {
      "text/html": [
       "<div>\n",
       "<style scoped>\n",
       "    .dataframe tbody tr th:only-of-type {\n",
       "        vertical-align: middle;\n",
       "    }\n",
       "\n",
       "    .dataframe tbody tr th {\n",
       "        vertical-align: top;\n",
       "    }\n",
       "\n",
       "    .dataframe thead th {\n",
       "        text-align: right;\n",
       "    }\n",
       "</style>\n",
       "<table border=\"1\" class=\"dataframe\">\n",
       "  <thead>\n",
       "    <tr style=\"text-align: right;\">\n",
       "      <th></th>\n",
       "      <th>Unnamed: 0</th>\n",
       "      <th>HTTP 404</th>\n",
       "      <th>Alexa Internet</th>\n",
       "      <th>Internet Explorer</th>\n",
       "      <th>HTTP cookie</th>\n",
       "      <th>Google Search</th>\n",
       "      <th>Tumblr</th>\n",
       "      <th>Hypertext Transfer Protocol</th>\n",
       "      <th>Social search</th>\n",
       "      <th>Firefox</th>\n",
       "      <th>...</th>\n",
       "      <th>Chad Kroeger</th>\n",
       "      <th>Nate Ruess</th>\n",
       "      <th>The Wanted</th>\n",
       "      <th>Stevie Nicks</th>\n",
       "      <th>Arctic Monkeys</th>\n",
       "      <th>Black Sabbath</th>\n",
       "      <th>Skrillex</th>\n",
       "      <th>Red Hot Chili Peppers</th>\n",
       "      <th>Sepsis</th>\n",
       "      <th>Adam Levine</th>\n",
       "    </tr>\n",
       "  </thead>\n",
       "  <tbody>\n",
       "    <tr>\n",
       "      <th>0</th>\n",
       "      <td>0</td>\n",
       "      <td>0.0</td>\n",
       "      <td>0.000000</td>\n",
       "      <td>0.0</td>\n",
       "      <td>0.0</td>\n",
       "      <td>0.0</td>\n",
       "      <td>0.0</td>\n",
       "      <td>0.0</td>\n",
       "      <td>0.0</td>\n",
       "      <td>0.0</td>\n",
       "      <td>...</td>\n",
       "      <td>0.0</td>\n",
       "      <td>0.0</td>\n",
       "      <td>0.0</td>\n",
       "      <td>0.008878</td>\n",
       "      <td>0.0</td>\n",
       "      <td>0.0</td>\n",
       "      <td>0.049502</td>\n",
       "      <td>0.000000</td>\n",
       "      <td>0.00000</td>\n",
       "      <td>0.0</td>\n",
       "    </tr>\n",
       "    <tr>\n",
       "      <th>1</th>\n",
       "      <td>1</td>\n",
       "      <td>0.0</td>\n",
       "      <td>0.000000</td>\n",
       "      <td>0.0</td>\n",
       "      <td>0.0</td>\n",
       "      <td>0.0</td>\n",
       "      <td>0.0</td>\n",
       "      <td>0.0</td>\n",
       "      <td>0.0</td>\n",
       "      <td>0.0</td>\n",
       "      <td>...</td>\n",
       "      <td>0.0</td>\n",
       "      <td>0.0</td>\n",
       "      <td>0.0</td>\n",
       "      <td>0.000000</td>\n",
       "      <td>0.0</td>\n",
       "      <td>0.0</td>\n",
       "      <td>0.000000</td>\n",
       "      <td>0.000000</td>\n",
       "      <td>0.00611</td>\n",
       "      <td>0.0</td>\n",
       "    </tr>\n",
       "    <tr>\n",
       "      <th>2</th>\n",
       "      <td>2</td>\n",
       "      <td>0.0</td>\n",
       "      <td>0.029607</td>\n",
       "      <td>0.0</td>\n",
       "      <td>0.0</td>\n",
       "      <td>0.0</td>\n",
       "      <td>0.0</td>\n",
       "      <td>0.0</td>\n",
       "      <td>0.0</td>\n",
       "      <td>0.0</td>\n",
       "      <td>...</td>\n",
       "      <td>0.0</td>\n",
       "      <td>0.0</td>\n",
       "      <td>0.0</td>\n",
       "      <td>0.000000</td>\n",
       "      <td>0.0</td>\n",
       "      <td>0.0</td>\n",
       "      <td>0.000000</td>\n",
       "      <td>0.000000</td>\n",
       "      <td>0.00000</td>\n",
       "      <td>0.0</td>\n",
       "    </tr>\n",
       "    <tr>\n",
       "      <th>3</th>\n",
       "      <td>3</td>\n",
       "      <td>0.0</td>\n",
       "      <td>0.000000</td>\n",
       "      <td>0.0</td>\n",
       "      <td>0.0</td>\n",
       "      <td>0.0</td>\n",
       "      <td>0.0</td>\n",
       "      <td>0.0</td>\n",
       "      <td>0.0</td>\n",
       "      <td>0.0</td>\n",
       "      <td>...</td>\n",
       "      <td>0.0</td>\n",
       "      <td>0.0</td>\n",
       "      <td>0.0</td>\n",
       "      <td>0.000000</td>\n",
       "      <td>0.0</td>\n",
       "      <td>0.0</td>\n",
       "      <td>0.000000</td>\n",
       "      <td>0.005646</td>\n",
       "      <td>0.00000</td>\n",
       "      <td>0.0</td>\n",
       "    </tr>\n",
       "    <tr>\n",
       "      <th>4</th>\n",
       "      <td>4</td>\n",
       "      <td>0.0</td>\n",
       "      <td>0.000000</td>\n",
       "      <td>0.0</td>\n",
       "      <td>0.0</td>\n",
       "      <td>0.0</td>\n",
       "      <td>0.0</td>\n",
       "      <td>0.0</td>\n",
       "      <td>0.0</td>\n",
       "      <td>0.0</td>\n",
       "      <td>...</td>\n",
       "      <td>0.0</td>\n",
       "      <td>0.0</td>\n",
       "      <td>0.0</td>\n",
       "      <td>0.000000</td>\n",
       "      <td>0.0</td>\n",
       "      <td>0.0</td>\n",
       "      <td>0.000000</td>\n",
       "      <td>0.000000</td>\n",
       "      <td>0.00000</td>\n",
       "      <td>0.0</td>\n",
       "    </tr>\n",
       "  </tbody>\n",
       "</table>\n",
       "<p>5 rows × 61 columns</p>\n",
       "</div>"
      ],
      "text/plain": [
       "   Unnamed: 0  HTTP 404  Alexa Internet  Internet Explorer  HTTP cookie  \\\n",
       "0           0       0.0        0.000000                0.0          0.0   \n",
       "1           1       0.0        0.000000                0.0          0.0   \n",
       "2           2       0.0        0.029607                0.0          0.0   \n",
       "3           3       0.0        0.000000                0.0          0.0   \n",
       "4           4       0.0        0.000000                0.0          0.0   \n",
       "\n",
       "   Google Search  Tumblr  Hypertext Transfer Protocol  Social search  Firefox  \\\n",
       "0            0.0     0.0                          0.0            0.0      0.0   \n",
       "1            0.0     0.0                          0.0            0.0      0.0   \n",
       "2            0.0     0.0                          0.0            0.0      0.0   \n",
       "3            0.0     0.0                          0.0            0.0      0.0   \n",
       "4            0.0     0.0                          0.0            0.0      0.0   \n",
       "\n",
       "      ...       Chad Kroeger  Nate Ruess  The Wanted  Stevie Nicks  \\\n",
       "0     ...                0.0         0.0         0.0      0.008878   \n",
       "1     ...                0.0         0.0         0.0      0.000000   \n",
       "2     ...                0.0         0.0         0.0      0.000000   \n",
       "3     ...                0.0         0.0         0.0      0.000000   \n",
       "4     ...                0.0         0.0         0.0      0.000000   \n",
       "\n",
       "   Arctic Monkeys  Black Sabbath  Skrillex  Red Hot Chili Peppers   Sepsis  \\\n",
       "0             0.0            0.0  0.049502               0.000000  0.00000   \n",
       "1             0.0            0.0  0.000000               0.000000  0.00611   \n",
       "2             0.0            0.0  0.000000               0.000000  0.00000   \n",
       "3             0.0            0.0  0.000000               0.005646  0.00000   \n",
       "4             0.0            0.0  0.000000               0.000000  0.00000   \n",
       "\n",
       "   Adam Levine  \n",
       "0          0.0  \n",
       "1          0.0  \n",
       "2          0.0  \n",
       "3          0.0  \n",
       "4          0.0  \n",
       "\n",
       "[5 rows x 61 columns]"
      ]
     },
     "metadata": {},
     "output_type": "display_data"
    }
   ],
   "source": [
    "display(articles.head())"
   ]
  },
  {
   "cell_type": "code",
   "execution_count": 22,
   "metadata": {},
   "outputs": [
    {
     "data": {
      "text/plain": [
       "['HTTP 404',\n",
       " 'Alexa Internet',\n",
       " 'Internet Explorer',\n",
       " 'HTTP cookie',\n",
       " 'Google Search',\n",
       " 'Tumblr',\n",
       " 'Hypertext Transfer Protocol',\n",
       " 'Social search',\n",
       " 'Firefox',\n",
       " 'LinkedIn',\n",
       " 'Global warming',\n",
       " 'Nationally Appropriate Mitigation Action',\n",
       " 'Nigel Lawson',\n",
       " 'Connie Hedegaard',\n",
       " 'Climate change',\n",
       " 'Kyoto Protocol',\n",
       " '350.org',\n",
       " 'Greenhouse gas emissions by the United States',\n",
       " '2010 United Nations Climate Change Conference',\n",
       " '2007 United Nations Climate Change Conference',\n",
       " 'Angelina Jolie',\n",
       " 'Michael Fassbender',\n",
       " 'Denzel Washington',\n",
       " 'Catherine Zeta-Jones',\n",
       " 'Jessica Biel',\n",
       " 'Russell Crowe',\n",
       " 'Mila Kunis',\n",
       " 'Dakota Fanning',\n",
       " 'Anne Hathaway',\n",
       " 'Jennifer Aniston',\n",
       " 'France national football team',\n",
       " 'Cristiano Ronaldo',\n",
       " 'Arsenal F.C.',\n",
       " 'Radamel Falcao',\n",
       " 'Zlatan Ibrahimović',\n",
       " 'Colombia national football team',\n",
       " '2014 FIFA World Cup qualification',\n",
       " 'Football',\n",
       " 'Neymar',\n",
       " 'Franck Ribéry',\n",
       " 'Tonsillitis',\n",
       " 'Hepatitis B',\n",
       " 'Doxycycline',\n",
       " 'Leukemia',\n",
       " 'Gout',\n",
       " 'Hepatitis C',\n",
       " 'Prednisone',\n",
       " 'Fever',\n",
       " 'Gabapentin',\n",
       " 'Lymphoma',\n",
       " 'Chad Kroeger',\n",
       " 'Nate Ruess',\n",
       " 'The Wanted',\n",
       " 'Stevie Nicks',\n",
       " 'Arctic Monkeys',\n",
       " 'Black Sabbath',\n",
       " 'Skrillex',\n",
       " 'Red Hot Chili Peppers',\n",
       " 'Sepsis',\n",
       " 'Adam Levine']"
      ]
     },
     "execution_count": 22,
     "metadata": {},
     "output_type": "execute_result"
    }
   ],
   "source": [
    "titles = list(articles.columns.values)\n",
    "titles.remove('Unnamed: 0')\n",
    "titles"
   ]
  },
  {
   "cell_type": "code",
   "execution_count": 23,
   "metadata": {},
   "outputs": [],
   "source": [
    "articles = articles.iloc[:, 1:]"
   ]
  },
  {
   "cell_type": "code",
   "execution_count": 24,
   "metadata": {},
   "outputs": [],
   "source": [
    "articles = articles.T"
   ]
  },
  {
   "cell_type": "code",
   "execution_count": 25,
   "metadata": {},
   "outputs": [],
   "source": [
    "# Perform the necessary imports\n",
    "from sklearn.decomposition import TruncatedSVD\n",
    "from sklearn.cluster import KMeans\n",
    "from sklearn.pipeline import make_pipeline\n",
    "\n",
    "svd = TruncatedSVD(n_components = 50)\n",
    "kmeans = KMeans(n_clusters = 6)\n",
    "pipeline = make_pipeline(svd, kmeans)"
   ]
  },
  {
   "cell_type": "code",
   "execution_count": 26,
   "metadata": {},
   "outputs": [
    {
     "data": {
      "text/plain": [
       "Pipeline(memory=None,\n",
       "     steps=[('truncatedsvd', TruncatedSVD(algorithm='randomized', n_components=50, n_iter=5,\n",
       "       random_state=None, tol=0.0)), ('kmeans', KMeans(algorithm='auto', copy_x=True, init='k-means++', max_iter=300,\n",
       "    n_clusters=6, n_init=10, n_jobs=None, precompute_distances='auto',\n",
       "    random_state=None, tol=0.0001, verbose=0))])"
      ]
     },
     "execution_count": 26,
     "metadata": {},
     "output_type": "execute_result"
    }
   ],
   "source": [
    "pipeline"
   ]
  },
  {
   "cell_type": "code",
   "execution_count": 27,
   "metadata": {},
   "outputs": [],
   "source": [
    "#articles = articles.values"
   ]
  },
  {
   "cell_type": "code",
   "execution_count": 28,
   "metadata": {},
   "outputs": [],
   "source": [
    "#articles"
   ]
  },
  {
   "cell_type": "code",
   "execution_count": 29,
   "metadata": {},
   "outputs": [],
   "source": [
    "from scipy.sparse import csr_matrix\n",
    "articles = csr_matrix(articles)"
   ]
  },
  {
   "cell_type": "code",
   "execution_count": 30,
   "metadata": {},
   "outputs": [
    {
     "data": {
      "text/plain": [
       "<60x13125 sparse matrix of type '<class 'numpy.float64'>'\n",
       "\twith 42091 stored elements in Compressed Sparse Row format>"
      ]
     },
     "execution_count": 30,
     "metadata": {},
     "output_type": "execute_result"
    }
   ],
   "source": [
    "articles"
   ]
  },
  {
   "cell_type": "code",
   "execution_count": 31,
   "metadata": {},
   "outputs": [
    {
     "name": "stdout",
     "output_type": "stream",
     "text": [
      "    label                                        article\n",
      "0       0                                       HTTP 404\n",
      "8       0                                        Firefox\n",
      "7       0                                  Social search\n",
      "6       0                    Hypertext Transfer Protocol\n",
      "5       0                                         Tumblr\n",
      "9       0                                       LinkedIn\n",
      "3       0                                    HTTP cookie\n",
      "2       0                              Internet Explorer\n",
      "1       0                                 Alexa Internet\n",
      "4       0                                  Google Search\n",
      "50      1                                   Chad Kroeger\n",
      "57      1                          Red Hot Chili Peppers\n",
      "56      1                                       Skrillex\n",
      "55      1                                  Black Sabbath\n",
      "54      1                                 Arctic Monkeys\n",
      "53      1                                   Stevie Nicks\n",
      "52      1                                     The Wanted\n",
      "51      1                                     Nate Ruess\n",
      "58      1                                         Sepsis\n",
      "59      1                                    Adam Levine\n",
      "20      2                                 Angelina Jolie\n",
      "28      2                                  Anne Hathaway\n",
      "27      2                                 Dakota Fanning\n",
      "26      2                                     Mila Kunis\n",
      "25      2                                  Russell Crowe\n",
      "29      2                               Jennifer Aniston\n",
      "23      2                           Catherine Zeta-Jones\n",
      "22      2                              Denzel Washington\n",
      "21      2                             Michael Fassbender\n",
      "24      2                                   Jessica Biel\n",
      "18      3  2010 United Nations Climate Change Conference\n",
      "10      3                                 Global warming\n",
      "11      3       Nationally Appropriate Mitigation Action\n",
      "12      3                                   Nigel Lawson\n",
      "13      3                               Connie Hedegaard\n",
      "14      3                                 Climate change\n",
      "15      3                                 Kyoto Protocol\n",
      "16      3                                        350.org\n",
      "17      3  Greenhouse gas emissions by the United States\n",
      "19      3  2007 United Nations Climate Change Conference\n",
      "39      4                                  Franck Ribéry\n",
      "37      4                                       Football\n",
      "38      4                                         Neymar\n",
      "30      4                  France national football team\n",
      "31      4                              Cristiano Ronaldo\n",
      "32      4                                   Arsenal F.C.\n",
      "33      4                                 Radamel Falcao\n",
      "34      4                             Zlatan Ibrahimović\n",
      "35      4                Colombia national football team\n",
      "36      4              2014 FIFA World Cup qualification\n",
      "41      5                                    Hepatitis B\n",
      "49      5                                       Lymphoma\n",
      "48      5                                     Gabapentin\n",
      "47      5                                          Fever\n",
      "46      5                                     Prednisone\n",
      "45      5                                    Hepatitis C\n",
      "44      5                                           Gout\n",
      "43      5                                       Leukemia\n",
      "40      5                                    Tonsillitis\n",
      "42      5                                    Doxycycline\n"
     ]
    }
   ],
   "source": [
    "pipeline.fit(articles)\n",
    "labels = pipeline.predict(articles)\n",
    "\n",
    "# Create a DataFrame aligning labels and titles: df\n",
    "df = pd.DataFrame({'label': labels, 'article': titles})\n",
    "print(df.sort_values('label'))"
   ]
  },
  {
   "cell_type": "markdown",
   "metadata": {},
   "source": [
    "## NMF applied to Wikipedia articles\n"
   ]
  },
  {
   "cell_type": "code",
   "execution_count": 32,
   "metadata": {},
   "outputs": [
    {
     "name": "stdout",
     "output_type": "stream",
     "text": [
      "[[0.00000000e+00 0.00000000e+00 0.00000000e+00 0.00000000e+00\n",
      "  0.00000000e+00 4.40466760e-01]\n",
      " [0.00000000e+00 0.00000000e+00 0.00000000e+00 0.00000000e+00\n",
      "  0.00000000e+00 5.66606209e-01]\n",
      " [3.82046791e-03 0.00000000e+00 0.00000000e+00 0.00000000e+00\n",
      "  0.00000000e+00 3.98647725e-01]\n",
      " [0.00000000e+00 0.00000000e+00 0.00000000e+00 0.00000000e+00\n",
      "  0.00000000e+00 3.81741063e-01]\n",
      " [0.00000000e+00 0.00000000e+00 0.00000000e+00 0.00000000e+00\n",
      "  0.00000000e+00 4.85518010e-01]\n",
      " [1.29287359e-02 1.37896315e-02 7.76306221e-03 3.34496540e-02\n",
      "  0.00000000e+00 3.34522745e-01]\n",
      " [0.00000000e+00 0.00000000e+00 2.06736491e-02 0.00000000e+00\n",
      "  6.04522664e-03 3.59062347e-01]\n",
      " [0.00000000e+00 0.00000000e+00 0.00000000e+00 0.00000000e+00\n",
      "  0.00000000e+00 4.90977602e-01]\n",
      " [1.54270172e-02 1.42824270e-02 3.76623745e-03 2.37118521e-02\n",
      "  2.62636664e-02 4.80775846e-01]\n",
      " [1.11735642e-02 3.13692870e-02 3.09477921e-02 6.57019043e-02\n",
      "  1.96690098e-02 3.38289601e-01]\n",
      " [0.00000000e+00 0.00000000e+00 5.30705946e-01 0.00000000e+00\n",
      "  2.83698173e-02 0.00000000e+00]\n",
      " [0.00000000e+00 0.00000000e+00 3.56500256e-01 0.00000000e+00\n",
      "  0.00000000e+00 0.00000000e+00]\n",
      " [1.20124310e-02 6.50067113e-03 3.12237313e-01 6.09788595e-02\n",
      "  1.13868847e-02 1.92603092e-02]\n",
      " [3.93475964e-03 6.24464034e-03 3.42364558e-01 1.10772205e-02\n",
      "  0.00000000e+00 0.00000000e+00]\n",
      " [4.63809846e-03 0.00000000e+00 4.34903994e-01 0.00000000e+00\n",
      "  3.84300327e-02 3.08134490e-03]\n",
      " [0.00000000e+00 0.00000000e+00 4.83276830e-01 0.00000000e+00\n",
      "  0.00000000e+00 0.00000000e+00]\n",
      " [5.65002855e-03 1.83541802e-02 3.76523429e-01 3.25470454e-02\n",
      "  0.00000000e+00 1.13334861e-02]\n",
      " [0.00000000e+00 0.00000000e+00 4.80901558e-01 0.00000000e+00\n",
      "  0.00000000e+00 0.00000000e+00]\n",
      " [0.00000000e+00 9.01895140e-03 5.50993933e-01 0.00000000e+00\n",
      "  0.00000000e+00 0.00000000e+00]\n",
      " [0.00000000e+00 0.00000000e+00 4.65957793e-01 0.00000000e+00\n",
      "  0.00000000e+00 0.00000000e+00]\n",
      " [0.00000000e+00 1.14084827e-02 2.08650368e-02 5.17782536e-01\n",
      "  5.81446659e-02 1.37854569e-02]\n",
      " [0.00000000e+00 0.00000000e+00 0.00000000e+00 5.10490290e-01\n",
      "  0.00000000e+00 0.00000000e+00]\n",
      " [0.00000000e+00 5.60124005e-03 0.00000000e+00 4.22392275e-01\n",
      "  0.00000000e+00 0.00000000e+00]\n",
      " [0.00000000e+00 0.00000000e+00 0.00000000e+00 4.36764101e-01\n",
      "  0.00000000e+00 0.00000000e+00]\n",
      " [0.00000000e+00 0.00000000e+00 0.00000000e+00 4.98106688e-01\n",
      "  0.00000000e+00 0.00000000e+00]\n",
      " [9.88369646e-02 8.60073179e-02 3.91025991e-03 3.81028714e-01\n",
      "  4.39270970e-04 5.22154703e-03]\n",
      " [0.00000000e+00 0.00000000e+00 0.00000000e+00 5.72186707e-01\n",
      "  0.00000000e+00 7.13547686e-03]\n",
      " [1.31465556e-02 1.04856977e-02 0.00000000e+00 4.68919828e-01\n",
      "  0.00000000e+00 1.16310441e-02]\n",
      " [3.84540463e-03 0.00000000e+00 0.00000000e+00 5.75727480e-01\n",
      "  0.00000000e+00 0.00000000e+00]\n",
      " [2.25239834e-03 1.38742035e-03 0.00000000e+00 5.27961283e-01\n",
      "  1.20272600e-02 1.49484655e-02]\n",
      " [0.00000000e+00 4.07561694e-01 1.85709878e-03 0.00000000e+00\n",
      "  2.96629943e-03 4.52339652e-04]\n",
      " [1.53417367e-03 6.08193206e-01 5.22264796e-04 6.24871469e-03\n",
      "  1.18452499e-03 4.40070511e-04]\n",
      " [5.38806164e-03 2.65025849e-01 5.38497257e-04 1.86931294e-02\n",
      "  6.38693230e-03 2.90105724e-03]\n",
      " [0.00000000e+00 6.44937288e-01 0.00000000e+00 0.00000000e+00\n",
      "  0.00000000e+00 0.00000000e+00]\n",
      " [0.00000000e+00 6.08927166e-01 0.00000000e+00 0.00000000e+00\n",
      "  0.00000000e+00 0.00000000e+00]\n",
      " [0.00000000e+00 3.43696649e-01 0.00000000e+00 0.00000000e+00\n",
      "  3.97820889e-03 0.00000000e+00]\n",
      " [6.10493591e-03 3.15323275e-01 1.54876066e-02 0.00000000e+00\n",
      "  5.06277814e-03 4.74336387e-03]\n",
      " [6.47357796e-03 2.13335639e-01 9.49471612e-03 4.56994459e-02\n",
      "  1.71925763e-02 9.52067536e-03]\n",
      " [7.99127468e-03 4.67610676e-01 0.00000000e+00 2.43432496e-02\n",
      "  0.00000000e+00 0.00000000e+00]\n",
      " [0.00000000e+00 6.42841432e-01 0.00000000e+00 2.35861640e-03\n",
      "  0.00000000e+00 0.00000000e+00]\n",
      " [0.00000000e+00 0.00000000e+00 0.00000000e+00 0.00000000e+00\n",
      "  4.77111351e-01 0.00000000e+00]\n",
      " [0.00000000e+00 0.00000000e+00 0.00000000e+00 0.00000000e+00\n",
      "  4.94285536e-01 0.00000000e+00]\n",
      " [0.00000000e+00 2.99075297e-04 2.14481567e-03 0.00000000e+00\n",
      "  3.81801408e-01 5.83783297e-03]\n",
      " [0.00000000e+00 0.00000000e+00 0.00000000e+00 5.64708843e-03\n",
      "  5.42273759e-01 0.00000000e+00]\n",
      " [1.78054953e-03 7.84439061e-04 1.41624294e-02 4.59824310e-04\n",
      "  4.24327701e-01 0.00000000e+00]\n",
      " [0.00000000e+00 0.00000000e+00 0.00000000e+00 0.00000000e+00\n",
      "  5.11422278e-01 0.00000000e+00]\n",
      " [0.00000000e+00 0.00000000e+00 3.28377066e-03 0.00000000e+00\n",
      "  3.72909061e-01 0.00000000e+00]\n",
      " [0.00000000e+00 2.62092719e-04 3.61095336e-02 2.32341547e-04\n",
      "  2.30524466e-01 0.00000000e+00]\n",
      " [1.12514861e-02 2.12334507e-03 1.60968366e-02 1.02487724e-02\n",
      "  3.25480992e-01 3.75881916e-02]\n",
      " [0.00000000e+00 0.00000000e+00 0.00000000e+00 0.00000000e+00\n",
      "  4.18983214e-01 3.57698448e-04]\n",
      " [3.08365810e-01 0.00000000e+00 0.00000000e+00 0.00000000e+00\n",
      "  0.00000000e+00 0.00000000e+00]\n",
      " [3.68172444e-01 0.00000000e+00 0.00000000e+00 0.00000000e+00\n",
      "  0.00000000e+00 0.00000000e+00]\n",
      " [3.97943339e-01 2.81712433e-02 3.67002971e-03 1.70071672e-02\n",
      "  1.95979302e-03 2.11645112e-02]\n",
      " [3.75793170e-01 2.07527497e-03 0.00000000e+00 3.72165217e-02\n",
      "  0.00000000e+00 5.85929652e-03]\n",
      " [4.38026529e-01 0.00000000e+00 0.00000000e+00 0.00000000e+00\n",
      "  0.00000000e+00 0.00000000e+00]\n",
      " [4.57879267e-01 0.00000000e+00 0.00000000e+00 0.00000000e+00\n",
      "  0.00000000e+00 0.00000000e+00]\n",
      " [2.75476178e-01 4.46971514e-03 0.00000000e+00 5.29670904e-02\n",
      "  0.00000000e+00 1.90998369e-02]\n",
      " [4.45192224e-01 0.00000000e+00 0.00000000e+00 0.00000000e+00\n",
      "  5.48731734e-03 0.00000000e+00]\n",
      " [2.92739272e-01 1.33669230e-02 1.14260541e-02 1.05203067e-02\n",
      "  1.87707679e-01 9.23968066e-03]\n",
      " [3.78265049e-01 1.43975064e-02 0.00000000e+00 9.85268309e-02\n",
      "  1.35908599e-02 0.00000000e+00]]\n"
     ]
    }
   ],
   "source": [
    "from sklearn.decomposition import NMF\n",
    "\n",
    "model = NMF(n_components = 6)\n",
    "model.fit(articles)\n",
    "nmf_features = model.transform(articles)\n",
    "print(nmf_features)"
   ]
  },
  {
   "cell_type": "markdown",
   "metadata": {},
   "source": [
    "## NMF features of the Wikipedia articles\n"
   ]
  },
  {
   "cell_type": "code",
   "execution_count": 33,
   "metadata": {},
   "outputs": [
    {
     "name": "stdout",
     "output_type": "stream",
     "text": [
      "0    0.003845\n",
      "1    0.000000\n",
      "2    0.000000\n",
      "3    0.575727\n",
      "4    0.000000\n",
      "5    0.000000\n",
      "Name: Anne Hathaway, dtype: float64\n",
      "0    0.000000\n",
      "1    0.005601\n",
      "2    0.000000\n",
      "3    0.422392\n",
      "4    0.000000\n",
      "5    0.000000\n",
      "Name: Denzel Washington, dtype: float64\n"
     ]
    }
   ],
   "source": [
    "import pandas as pd\n",
    "df = pd.DataFrame(nmf_features, index = titles)\n",
    "\n",
    "# Print the row for 'Anne Hathaway'\n",
    "print(df.loc['Anne Hathaway', :])\n",
    "\n",
    "# Print the row for 'Denzel Washington'\n",
    "print(df.loc['Denzel Washington', :])\n"
   ]
  },
  {
   "cell_type": "markdown",
   "metadata": {},
   "source": [
    "Notice that for both actors, the NMF feature 3 has by far the highest value. This means that both articles are reconstructed using mainly the 3rd NMF component. NMF components represent topics (for instance, acting!)."
   ]
  },
  {
   "cell_type": "markdown",
   "metadata": {},
   "source": [
    "## NMF learns topics of documents\n"
   ]
  },
  {
   "cell_type": "code",
   "execution_count": 36,
   "metadata": {},
   "outputs": [
    {
     "name": "stdout",
     "output_type": "stream",
     "text": [
      "(6, 13125)\n",
      "(film,)       0.627858\n",
      "(award,)      0.253124\n",
      "(starred,)    0.245277\n",
      "(role,)       0.211445\n",
      "(actress,)    0.186392\n",
      "Name: 3, dtype: float64\n"
     ]
    }
   ],
   "source": [
    "import pandas as pd\n",
    "\n",
    "# Create a DataFrame: components_df\n",
    "components_df = pd.DataFrame(model.components_, columns = words)\n",
    "\n",
    "# Print the shape of the DataFrame\n",
    "print(components_df.shape)\n",
    "\n",
    "# Select row 3: component, Anne Hathaway', 'Denzel Washington'\n",
    "component = components_df.iloc[3, :]\n",
    "\n",
    "# Print result of nlargest\n",
    "print(component.nlargest())\n"
   ]
  },
  {
   "cell_type": "markdown",
   "metadata": {},
   "source": [
    "## Which articles are similar to 'Cristiano Ronaldo'?"
   ]
  },
  {
   "cell_type": "code",
   "execution_count": 42,
   "metadata": {},
   "outputs": [
    {
     "name": "stdout",
     "output_type": "stream",
     "text": [
      "Cristiano Ronaldo                1.000000\n",
      "Franck Ribéry                    0.999972\n",
      "Radamel Falcao                   0.999942\n",
      "Zlatan Ibrahimović               0.999942\n",
      "France national football team    0.999923\n",
      "dtype: float64\n"
     ]
    }
   ],
   "source": [
    "import pandas as pd\n",
    "from sklearn.preprocessing import normalize\n",
    "\n",
    "norm_features = normalize(nmf_features)\n",
    "df = pd.DataFrame(norm_features, index = titles)\n",
    "article = df.loc['Cristiano Ronaldo', :]\n",
    "similarities = df.dot(article)\n",
    "print(similarities.nlargest())"
   ]
  }
 ],
 "metadata": {
  "kernelspec": {
   "display_name": "Python 3",
   "language": "python",
   "name": "python3"
  },
  "language_info": {
   "codemirror_mode": {
    "name": "ipython",
    "version": 3
   },
   "file_extension": ".py",
   "mimetype": "text/x-python",
   "name": "python",
   "nbconvert_exporter": "python",
   "pygments_lexer": "ipython3",
   "version": "3.7.1"
  }
 },
 "nbformat": 4,
 "nbformat_minor": 2
}
