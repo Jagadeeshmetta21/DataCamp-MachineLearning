{
 "cells": [
  {
   "cell_type": "code",
   "execution_count": 29,
   "metadata": {},
   "outputs": [],
   "source": [
    "import pandas as pd\n",
    "import numpy as np\n",
    "import matplotlib.pyplot as plt\n",
    "import os\n",
    "from sklearn.cluster import KMeans"
   ]
  },
  {
   "cell_type": "code",
   "execution_count": 30,
   "metadata": {},
   "outputs": [
    {
     "data": {
      "text/plain": [
       "['seeds.csv',\n",
       " 'seeds-width-vs-length.csv',\n",
       " 'Seeds Clustering.ipynb',\n",
       " '.ipynb_checkpoints']"
      ]
     },
     "execution_count": 30,
     "metadata": {},
     "output_type": "execute_result"
    }
   ],
   "source": [
    "os.listdir()"
   ]
  },
  {
   "cell_type": "code",
   "execution_count": 31,
   "metadata": {},
   "outputs": [],
   "source": [
    "samples = pd.read_csv('seeds.csv', header = None)\n",
    "seeds_w_l = pd.read_csv('seeds-width-vs-length.csv', header = None)"
   ]
  },
  {
   "cell_type": "code",
   "execution_count": 32,
   "metadata": {},
   "outputs": [
    {
     "data": {
      "text/html": [
       "<div>\n",
       "<style scoped>\n",
       "    .dataframe tbody tr th:only-of-type {\n",
       "        vertical-align: middle;\n",
       "    }\n",
       "\n",
       "    .dataframe tbody tr th {\n",
       "        vertical-align: top;\n",
       "    }\n",
       "\n",
       "    .dataframe thead th {\n",
       "        text-align: right;\n",
       "    }\n",
       "</style>\n",
       "<table border=\"1\" class=\"dataframe\">\n",
       "  <thead>\n",
       "    <tr style=\"text-align: right;\">\n",
       "      <th></th>\n",
       "      <th>0</th>\n",
       "      <th>1</th>\n",
       "      <th>2</th>\n",
       "      <th>3</th>\n",
       "      <th>4</th>\n",
       "      <th>5</th>\n",
       "      <th>6</th>\n",
       "      <th>7</th>\n",
       "    </tr>\n",
       "  </thead>\n",
       "  <tbody>\n",
       "    <tr>\n",
       "      <th>0</th>\n",
       "      <td>15.26</td>\n",
       "      <td>14.84</td>\n",
       "      <td>0.8710</td>\n",
       "      <td>5.763</td>\n",
       "      <td>3.312</td>\n",
       "      <td>2.221</td>\n",
       "      <td>5.220</td>\n",
       "      <td>1</td>\n",
       "    </tr>\n",
       "    <tr>\n",
       "      <th>1</th>\n",
       "      <td>14.88</td>\n",
       "      <td>14.57</td>\n",
       "      <td>0.8811</td>\n",
       "      <td>5.554</td>\n",
       "      <td>3.333</td>\n",
       "      <td>1.018</td>\n",
       "      <td>4.956</td>\n",
       "      <td>1</td>\n",
       "    </tr>\n",
       "    <tr>\n",
       "      <th>2</th>\n",
       "      <td>14.29</td>\n",
       "      <td>14.09</td>\n",
       "      <td>0.9050</td>\n",
       "      <td>5.291</td>\n",
       "      <td>3.337</td>\n",
       "      <td>2.699</td>\n",
       "      <td>4.825</td>\n",
       "      <td>1</td>\n",
       "    </tr>\n",
       "    <tr>\n",
       "      <th>3</th>\n",
       "      <td>13.84</td>\n",
       "      <td>13.94</td>\n",
       "      <td>0.8955</td>\n",
       "      <td>5.324</td>\n",
       "      <td>3.379</td>\n",
       "      <td>2.259</td>\n",
       "      <td>4.805</td>\n",
       "      <td>1</td>\n",
       "    </tr>\n",
       "    <tr>\n",
       "      <th>4</th>\n",
       "      <td>16.14</td>\n",
       "      <td>14.99</td>\n",
       "      <td>0.9034</td>\n",
       "      <td>5.658</td>\n",
       "      <td>3.562</td>\n",
       "      <td>1.355</td>\n",
       "      <td>5.175</td>\n",
       "      <td>1</td>\n",
       "    </tr>\n",
       "  </tbody>\n",
       "</table>\n",
       "</div>"
      ],
      "text/plain": [
       "       0      1       2      3      4      5      6  7\n",
       "0  15.26  14.84  0.8710  5.763  3.312  2.221  5.220  1\n",
       "1  14.88  14.57  0.8811  5.554  3.333  1.018  4.956  1\n",
       "2  14.29  14.09  0.9050  5.291  3.337  2.699  4.825  1\n",
       "3  13.84  13.94  0.8955  5.324  3.379  2.259  4.805  1\n",
       "4  16.14  14.99  0.9034  5.658  3.562  1.355  5.175  1"
      ]
     },
     "metadata": {},
     "output_type": "display_data"
    },
    {
     "data": {
      "text/html": [
       "<div>\n",
       "<style scoped>\n",
       "    .dataframe tbody tr th:only-of-type {\n",
       "        vertical-align: middle;\n",
       "    }\n",
       "\n",
       "    .dataframe tbody tr th {\n",
       "        vertical-align: top;\n",
       "    }\n",
       "\n",
       "    .dataframe thead th {\n",
       "        text-align: right;\n",
       "    }\n",
       "</style>\n",
       "<table border=\"1\" class=\"dataframe\">\n",
       "  <thead>\n",
       "    <tr style=\"text-align: right;\">\n",
       "      <th></th>\n",
       "      <th>0</th>\n",
       "      <th>1</th>\n",
       "    </tr>\n",
       "  </thead>\n",
       "  <tbody>\n",
       "    <tr>\n",
       "      <th>0</th>\n",
       "      <td>3.312</td>\n",
       "      <td>5.763</td>\n",
       "    </tr>\n",
       "    <tr>\n",
       "      <th>1</th>\n",
       "      <td>3.333</td>\n",
       "      <td>5.554</td>\n",
       "    </tr>\n",
       "    <tr>\n",
       "      <th>2</th>\n",
       "      <td>3.337</td>\n",
       "      <td>5.291</td>\n",
       "    </tr>\n",
       "    <tr>\n",
       "      <th>3</th>\n",
       "      <td>3.379</td>\n",
       "      <td>5.324</td>\n",
       "    </tr>\n",
       "    <tr>\n",
       "      <th>4</th>\n",
       "      <td>3.562</td>\n",
       "      <td>5.658</td>\n",
       "    </tr>\n",
       "  </tbody>\n",
       "</table>\n",
       "</div>"
      ],
      "text/plain": [
       "       0      1\n",
       "0  3.312  5.763\n",
       "1  3.333  5.554\n",
       "2  3.337  5.291\n",
       "3  3.379  5.324\n",
       "4  3.562  5.658"
      ]
     },
     "metadata": {},
     "output_type": "display_data"
    }
   ],
   "source": [
    "display(samples.head())\n",
    "display(seeds_w_l.head())"
   ]
  },
  {
   "cell_type": "code",
   "execution_count": 33,
   "metadata": {},
   "outputs": [
    {
     "name": "stdout",
     "output_type": "stream",
     "text": [
      "<class 'pandas.core.frame.DataFrame'>\n",
      "RangeIndex: 210 entries, 0 to 209\n",
      "Data columns (total 8 columns):\n",
      "0    210 non-null float64\n",
      "1    210 non-null float64\n",
      "2    210 non-null float64\n",
      "3    210 non-null float64\n",
      "4    210 non-null float64\n",
      "5    210 non-null float64\n",
      "6    210 non-null float64\n",
      "7    210 non-null int64\n",
      "dtypes: float64(7), int64(1)\n",
      "memory usage: 13.2 KB\n"
     ]
    }
   ],
   "source": [
    "samples.info()"
   ]
  },
  {
   "cell_type": "code",
   "execution_count": 34,
   "metadata": {},
   "outputs": [
    {
     "name": "stdout",
     "output_type": "stream",
     "text": [
      "(210, 8)\n",
      "(210, 2)\n"
     ]
    }
   ],
   "source": [
    "print(samples.shape)\n",
    "print(seeds_w_l.shape)"
   ]
  },
  {
   "cell_type": "code",
   "execution_count": 35,
   "metadata": {},
   "outputs": [
    {
     "data": {
      "text/plain": [
       "array([1, 2, 3])"
      ]
     },
     "execution_count": 35,
     "metadata": {},
     "output_type": "execute_result"
    }
   ],
   "source": [
    "samples[7].unique()"
   ]
  },
  {
   "cell_type": "code",
   "execution_count": 36,
   "metadata": {},
   "outputs": [],
   "source": [
    "#samples[7] = samples[7].map({1: 'Kama wheat', 2: 'Rosa wheat', 3: 'Canadian wheat' })\n",
    "#samples.rename(columns = {7: 'varieties'})"
   ]
  },
  {
   "cell_type": "code",
   "execution_count": 48,
   "metadata": {},
   "outputs": [],
   "source": [
    "varieties = []\n",
    "\n",
    "for i in samples[7]:\n",
    "    if i == 1:\n",
    "        i = 'Kama wheat'\n",
    "    elif i == 2:\n",
    "        i = 'Rosa wheat'\n",
    "    else:\n",
    "        i = 'Canadian wheat'\n",
    "    #varieties.append[i]\n",
    "    varieties.append(i)\n"
   ]
  },
  {
   "cell_type": "markdown",
   "metadata": {},
   "source": [
    "## How many clusters of grain?\n"
   ]
  },
  {
   "cell_type": "code",
   "execution_count": 38,
   "metadata": {},
   "outputs": [
    {
     "data": {
      "text/plain": [
       "[2859.852410177952,\n",
       " 1147.2480596008331,\n",
       " 625.7199966009624,\n",
       " 512.3364264634379,\n",
       " 429.2136848796426]"
      ]
     },
     "execution_count": 38,
     "metadata": {},
     "output_type": "execute_result"
    }
   ],
   "source": [
    "ks = range(1, 6)\n",
    "inertias = []\n",
    "\n",
    "for k in ks:\n",
    "    model = KMeans(n_clusters = k)\n",
    "    model.fit(samples)\n",
    "    inertias.append(model.inertia_)\n",
    "\n",
    "inertias"
   ]
  },
  {
   "cell_type": "code",
   "execution_count": 39,
   "metadata": {},
   "outputs": [
    {
     "data": {
      "image/png": "[encoded data removed]",
      "text/plain": [
       "<Figure size 432x288 with 1 Axes>"
      ]
     },
     "metadata": {
      "needs_background": "light"
     },
     "output_type": "display_data"
    }
   ],
   "source": [
    "# Plot ks vs inertias\n",
    "plt.plot(ks, inertias, '-o')\n",
    "plt.xlabel('number of clusters, k')\n",
    "plt.ylabel('inertia')\n",
    "plt.xticks(ks)\n",
    "plt.show()"
   ]
  },
  {
   "cell_type": "markdown",
   "metadata": {},
   "source": [
    "good number of clusters is 3"
   ]
  },
  {
   "cell_type": "markdown",
   "metadata": {},
   "source": [
    "## Evaluating the grain clustering\n"
   ]
  },
  {
   "cell_type": "code",
   "execution_count": 40,
   "metadata": {},
   "outputs": [
    {
     "name": "stdout",
     "output_type": "stream",
     "text": [
      "varieties  Canadian wheat  Kama wheat  Rosa wheat\n",
      "labels                                           \n",
      "0                       0          64          10\n",
      "1                       0           1          60\n",
      "2                      70           5           0\n"
     ]
    },
    {
     "data": {
      "text/plain": [
       "pandas.core.frame.DataFrame"
      ]
     },
     "execution_count": 40,
     "metadata": {},
     "output_type": "execute_result"
    }
   ],
   "source": [
    "model = KMeans (n_clusters = 3)\n",
    "labels = model.fit_predict(samples)\n",
    "\n",
    "# Create a DataFrame with labels and varieties as columns: df\n",
    "df = pd.DataFrame({'labels': labels, 'varieties': varieties})\n",
    "\n",
    "# Create crosstab: ct\n",
    "ct = pd.crosstab(df['labels'], df['varieties'])\n",
    "print(ct)\n",
    "type(ct)"
   ]
  },
  {
   "cell_type": "markdown",
   "metadata": {},
   "source": [
    "The clustering seem to be okay/good"
   ]
  },
  {
   "cell_type": "markdown",
   "metadata": {},
   "source": [
    "## Dendrogram"
   ]
  },
  {
   "cell_type": "code",
   "execution_count": 41,
   "metadata": {},
   "outputs": [],
   "source": [
    "from scipy.cluster.hierarchy import linkage, dendrogram\n",
    "import matplotlib.pyplot as plt"
   ]
  },
  {
   "cell_type": "code",
   "execution_count": 51,
   "metadata": {},
   "outputs": [
    {
     "data": {
      "image/png": "[encoded data removed]",
      "text/plain": [
       "<Figure size 432x288 with 1 Axes>"
      ]
     },
     "metadata": {
      "needs_background": "light"
     },
     "output_type": "display_data"
    }
   ],
   "source": [
    "mergings = linkage(samples, method = 'complete')\n",
    "# Plot the dendrogram, using varieties as labels\n",
    "dendrogram(mergings,\n",
    "           labels=varieties,\n",
    "           leaf_rotation=90,\n",
    "           leaf_font_size=6,\n",
    ")\n",
    "plt.show()"
   ]
  },
  {
   "cell_type": "markdown",
   "metadata": {},
   "source": [
    "## Extracting Cluster Labels"
   ]
  },
  {
   "cell_type": "markdown",
   "metadata": {},
   "source": [
    "use the fcluster() function to extract the cluster labels for this intermediate clustering, and compare the labels with the grain varieties using a cross-tabulatio"
   ]
  },
  {
   "cell_type": "code",
   "execution_count": 52,
   "metadata": {},
   "outputs": [
    {
     "name": "stdout",
     "output_type": "stream",
     "text": [
      "varieties  Canadian wheat  Kama wheat  Rosa wheat\n",
      "labels                                           \n",
      "1                       0           0          52\n",
      "2                      58           2           0\n",
      "3                      12          50           0\n",
      "4                       0          18          18\n"
     ]
    }
   ],
   "source": [
    "import pandas as pd\n",
    "from scipy.cluster.hierarchy import fcluster\n",
    "\n",
    "# Use fcluster to extract labels: labels\n",
    "labels = fcluster(mergings, 6, criterion = 'distance')\n",
    "\n",
    "df = pd.DataFrame({'labels': labels, 'varieties': varieties})\n",
    "ct = pd.crosstab(df['labels'], df['varieties'])\n",
    "print(ct)"
   ]
  },
  {
   "cell_type": "markdown",
   "metadata": {},
   "source": [
    "## t-SNE visualization of grain dataset\n"
   ]
  },
  {
   "cell_type": "code",
   "execution_count": 53,
   "metadata": {},
   "outputs": [],
   "source": [
    "variety_numbers = [1,\n",
    " 1,\n",
    " 1,\n",
    " 1,\n",
    " 1,\n",
    " 1,\n",
    " 1,\n",
    " 1,\n",
    " 1,\n",
    " 1,\n",
    " 1,\n",
    " 1,\n",
    " 1,\n",
    " 1,\n",
    " 1,\n",
    " 1,\n",
    " 1,\n",
    " 1,\n",
    " 1,\n",
    " 1,\n",
    " 1,\n",
    " 1,\n",
    " 1,\n",
    " 1,\n",
    " 1,\n",
    " 1,\n",
    " 1,\n",
    " 1,\n",
    " 1,\n",
    " 1,\n",
    " 1,\n",
    " 1,\n",
    " 1,\n",
    " 1,\n",
    " 1,\n",
    " 1,\n",
    " 1,\n",
    " 1,\n",
    " 1,\n",
    " 1,\n",
    " 1,\n",
    " 1,\n",
    " 1,\n",
    " 1,\n",
    " 1,\n",
    " 1,\n",
    " 1,\n",
    " 1,\n",
    " 1,\n",
    " 1,\n",
    " 1,\n",
    " 1,\n",
    " 1,\n",
    " 1,\n",
    " 1,\n",
    " 1,\n",
    " 1,\n",
    " 1,\n",
    " 1,\n",
    " 1,\n",
    " 1,\n",
    " 1,\n",
    " 1,\n",
    " 1,\n",
    " 1,\n",
    " 1,\n",
    " 1,\n",
    " 1,\n",
    " 1,\n",
    " 1,\n",
    " 2,\n",
    " 2,\n",
    " 2,\n",
    " 2,\n",
    " 2,\n",
    " 2,\n",
    " 2,\n",
    " 2,\n",
    " 2,\n",
    " 2,\n",
    " 2,\n",
    " 2,\n",
    " 2,\n",
    " 2,\n",
    " 2,\n",
    " 2,\n",
    " 2,\n",
    " 2,\n",
    " 2,\n",
    " 2,\n",
    " 2,\n",
    " 2,\n",
    " 2,\n",
    " 2,\n",
    " 2,\n",
    " 2,\n",
    " 2,\n",
    " 2,\n",
    " 2,\n",
    " 2,\n",
    " 2,\n",
    " 2,\n",
    " 2,\n",
    " 2,\n",
    " 2,\n",
    " 2,\n",
    " 2,\n",
    " 2,\n",
    " 2,\n",
    " 2,\n",
    " 2,\n",
    " 2,\n",
    " 2,\n",
    " 2,\n",
    " 2,\n",
    " 2,\n",
    " 2,\n",
    " 2,\n",
    " 2,\n",
    " 2,\n",
    " 2,\n",
    " 2,\n",
    " 2,\n",
    " 2,\n",
    " 2,\n",
    " 2,\n",
    " 2,\n",
    " 2,\n",
    " 2,\n",
    " 2,\n",
    " 2,\n",
    " 2,\n",
    " 2,\n",
    " 2,\n",
    " 2,\n",
    " 2,\n",
    " 2,\n",
    " 2,\n",
    " 2,\n",
    " 2,\n",
    " 3,\n",
    " 3,\n",
    " 3,\n",
    " 3,\n",
    " 3,\n",
    " 3,\n",
    " 3,\n",
    " 3,\n",
    " 3,\n",
    " 3,\n",
    " 3,\n",
    " 3,\n",
    " 3,\n",
    " 3,\n",
    " 3,\n",
    " 3,\n",
    " 3,\n",
    " 3,\n",
    " 3,\n",
    " 3,\n",
    " 3,\n",
    " 3,\n",
    " 3,\n",
    " 3,\n",
    " 3,\n",
    " 3,\n",
    " 3,\n",
    " 3,\n",
    " 3,\n",
    " 3,\n",
    " 3,\n",
    " 3,\n",
    " 3,\n",
    " 3,\n",
    " 3,\n",
    " 3,\n",
    " 3,\n",
    " 3,\n",
    " 3,\n",
    " 3,\n",
    " 3,\n",
    " 3,\n",
    " 3,\n",
    " 3,\n",
    " 3,\n",
    " 3,\n",
    " 3,\n",
    " 3,\n",
    " 3,\n",
    " 3,\n",
    " 3,\n",
    " 3,\n",
    " 3,\n",
    " 3,\n",
    " 3,\n",
    " 3,\n",
    " 3,\n",
    " 3,\n",
    " 3,\n",
    " 3,\n",
    " 3,\n",
    " 3,\n",
    " 3,\n",
    " 3,\n",
    " 3,\n",
    " 3,\n",
    " 3,\n",
    " 3,\n",
    " 3,\n",
    " 3]"
   ]
  },
  {
   "cell_type": "code",
   "execution_count": 57,
   "metadata": {},
   "outputs": [
    {
     "data": {
      "text/plain": [
       "<matplotlib.collections.PathCollection at 0x1a1d98e0f0>"
      ]
     },
     "execution_count": 57,
     "metadata": {},
     "output_type": "execute_result"
    },
    {
     "data": {
      "image/png": "[encoded data removed]",
      "text/plain": [
       "<Figure size 432x288 with 1 Axes>"
      ]
     },
     "metadata": {
      "needs_background": "light"
     },
     "output_type": "display_data"
    }
   ],
   "source": [
    "from sklearn.manifold import TSNE\n",
    "model = TSNE(learning_rate = 200)\n",
    "tsne_features = model.fit_transform(samples)\n",
    "xs = tsne_features[:, 0]\n",
    "ys = tsne_features[:, 1]\n",
    "plt.scatter(xs, ys, c=variety_numbers)"
   ]
  },
  {
   "cell_type": "code",
   "execution_count": null,
   "metadata": {},
   "outputs": [],
   "source": []
  }
 ],
 "metadata": {
  "kernelspec": {
   "display_name": "Python 3",
   "language": "python",
   "name": "python3"
  },
  "language_info": {
   "codemirror_mode": {
    "name": "ipython",
    "version": 3
   },
   "file_extension": ".py",
   "mimetype": "text/x-python",
   "name": "python",
   "nbconvert_exporter": "python",
   "pygments_lexer": "ipython3",
   "version": "3.7.1"
  }
 },
 "nbformat": 4,
 "nbformat_minor": 2
}
